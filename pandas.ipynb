{
 "cells": [
  {
   "cell_type": "markdown",
   "id": "99e9e1ec-45f4-48df-9797-1a6e59556730",
   "metadata": {},
   "source": [
    "# Pandas tutorial\n",
    "\n",
    "This notebook uses examples from the official [Pandas: Getting started tutorials](https://pandas.pydata.org/docs/getting_started/intro_tutorials/index.html)"
   ]
  },
  {
   "cell_type": "markdown",
   "id": "ee6ae2fc-0bb8-4194-b8f0-c330cad09e68",
   "metadata": {},
   "source": [
    "## Load the libraries that you plan to use\n",
    "\n",
    "It's good practice in a notebook to always load the libraries at the top of the notebook that you plan to use throughout the notebook. This preps the reader to understand what to expect in terms of commands and outputs. It also ensures that all the required functions and commands are available in the code cells, since you've loaded them into the computer's memory as the first set of instructions in the notebook.\n",
    "\n",
    "This notebook will use [`pandas`](https://pandas.pydata.org/) and [`matplotlib`](https://matplotlib.org/), which are two very popular libraries to analyze and visualize data respectively."
   ]
  },
  {
   "cell_type": "code",
   "execution_count": null,
   "id": "328994b9-3e99-4b7d-bdb0-a7679e48d2f8",
   "metadata": {},
   "outputs": [],
   "source": [
    "import pandas as pd\n",
    "import matplotlib.pyplot as plt"
   ]
  },
  {
   "cell_type": "markdown",
   "id": "c5e7da42-5e10-483e-acd7-49c97f5153f7",
   "metadata": {},
   "source": [
    "## Load your data\n",
    "\n",
    "You should store your data on the same server as your notebook whenever possible. Comma Separated Values (or `csv`) files are a very common format for storing Table-like information. The `read_csv` function in the `pandas` library, which the code above has shorted to `pd` when running `pandas` functions, can read in a `csv` file if you pass the function a string that contains the location of the file.\n",
    "\n",
    "For example, the `pd.read_csv` function below will look in the `data` folder found in the same location as this notebook, for the file named `titanic.csv`. "
   ]
  },
  {
   "cell_type": "code",
   "execution_count": null,
   "id": "cbceea1a-ce33-4a94-a6df-87149a2a69a9",
   "metadata": {},
   "outputs": [],
   "source": [
    "titanic = pd.read_csv(\"data/titanic.csv\")"
   ]
  },
  {
   "cell_type": "code",
   "execution_count": null,
   "id": "dc346c2d-5786-4d04-8850-25c7f10d44c7",
   "metadata": {},
   "outputs": [],
   "source": [
    "ages = titanic[\"Age\"]\n",
    "ages"
   ]
  },
  {
   "cell_type": "code",
   "execution_count": null,
   "id": "f0989091-5e46-42dc-834f-6d1c7f910c49",
   "metadata": {},
   "outputs": [],
   "source": [
    "age_sex = titanic[[\"Age\", \"Sex\"]]\n",
    "age_sex"
   ]
  },
  {
   "cell_type": "markdown",
   "id": "bf83cc65-6533-415a-b042-cf4271d501f1",
   "metadata": {},
   "source": [
    "### I’m interested in the passengers older than 35 years."
   ]
  },
  {
   "cell_type": "code",
   "execution_count": null,
   "id": "718c698e-7f47-42ba-9eb5-409943807ad1",
   "metadata": {},
   "outputs": [],
   "source": [
    "titanic[titanic[\"Age\"] > 35]"
   ]
  },
  {
   "cell_type": "markdown",
   "id": "da290604-51e2-4f16-90d4-b6b38a04a043",
   "metadata": {},
   "source": [
    "### I’m interested in the Titanic passengers from cabin class 2 and 3."
   ]
  },
  {
   "cell_type": "code",
   "execution_count": null,
   "id": "6c6b368b-8c54-4410-87bc-9f038d98b203",
   "metadata": {},
   "outputs": [],
   "source": [
    "class_23 = titanic[titanic[\"Pclass\"].isin([2, 3])]\n",
    "class_23"
   ]
  },
  {
   "cell_type": "code",
   "execution_count": null,
   "id": "cdfc3c56-7a25-47b2-80ed-d1d3cefe1a4d",
   "metadata": {},
   "outputs": [],
   "source": [
    "# Same as above, just written differently\n",
    "class_23 = titanic[(titanic[\"Pclass\"] == 2) | (titanic[\"Pclass\"] == 3)]\n",
    "class_23"
   ]
  },
  {
   "cell_type": "markdown",
   "id": "2789bc6f-ff52-4275-a95a-7db49cb07a46",
   "metadata": {},
   "source": [
    "### I want to work with passenger data for which the age is known."
   ]
  },
  {
   "cell_type": "code",
   "execution_count": null,
   "id": "45afecbc-4e3f-4ebf-be0b-a56c33f8575e",
   "metadata": {},
   "outputs": [],
   "source": [
    "age_no_na = titanic[titanic[\"Age\"].notna()]\n",
    "age_no_na"
   ]
  },
  {
   "cell_type": "markdown",
   "id": "9c2a331b-b3a0-4c36-9c5f-2f9d44792516",
   "metadata": {},
   "source": [
    "### I’m interested in the names of the passengers older than 35 years."
   ]
  },
  {
   "cell_type": "code",
   "execution_count": null,
   "id": "fd8699c1-4c24-4ccd-ba55-6a0ac09118e8",
   "metadata": {},
   "outputs": [],
   "source": [
    "adult_names = titanic.loc[titanic[\"Age\"] > 35, \"Name\"]\n",
    "adult_names"
   ]
  },
  {
   "cell_type": "markdown",
   "id": "d3d2c4fc-48da-4eaa-be58-062dbea916ca",
   "metadata": {},
   "source": [
    "### I’m interested in rows 10 till 25 and columns 3 to 5."
   ]
  },
  {
   "cell_type": "code",
   "execution_count": null,
   "id": "ef9e916f-954b-4b9e-9e97-f9754d1433e7",
   "metadata": {},
   "outputs": [],
   "source": [
    "titanic.iloc[9:25, 2:5]"
   ]
  },
  {
   "cell_type": "code",
   "execution_count": null,
   "id": "2d85cd15-dd8b-47c0-adaa-2d464778d6dc",
   "metadata": {},
   "outputs": [],
   "source": []
  },
  {
   "cell_type": "markdown",
   "id": "cddf36b9-468d-45b8-862c-bc1a11c82729",
   "metadata": {},
   "source": [
    "## Visualizing Data\n",
    "\n",
    "Load the `csv` file named `air_quality_no2.csv` using the command below. Notice a few other options are included when calling the function.\n",
    "\n",
    "`index_col=0` means `pandas` will use the first column (most programming languages start counting at 0) to be the index in each row. `parse_dates` means that if it finds any data that looks like a date, it will format as such to make it easier to view."
   ]
  },
  {
   "cell_type": "code",
   "execution_count": null,
   "id": "0246249d-d510-4842-84ee-6faa3caa1d19",
   "metadata": {},
   "outputs": [],
   "source": [
    "air_quality = pd.read_csv(\"data/air_quality_no2.csv\", index_col=0, parse_dates=True)"
   ]
  },
  {
   "cell_type": "code",
   "execution_count": null,
   "id": "c0bfa44b-cec8-4741-a399-5c921dc60faf",
   "metadata": {},
   "outputs": [],
   "source": [
    "air_quality.head()"
   ]
  },
  {
   "cell_type": "code",
   "execution_count": null,
   "id": "61d05ab2-5bb2-49e7-926f-a45a1c7fd732",
   "metadata": {},
   "outputs": [],
   "source": [
    "air_quality.plot()\n",
    "plt.show()"
   ]
  },
  {
   "cell_type": "code",
   "execution_count": null,
   "id": "b0548c63-2c95-4cde-97ad-eba302a4d64c",
   "metadata": {},
   "outputs": [],
   "source": [
    "air_quality[\"station_paris\"].plot()\n",
    "plt.show()"
   ]
  },
  {
   "cell_type": "code",
   "execution_count": null,
   "id": "42c96a53-5b37-41a7-b2f6-0b67fb906480",
   "metadata": {},
   "outputs": [],
   "source": [
    "air_quality.plot.scatter(x=\"station_london\", y=\"station_paris\", alpha=0.5)\n",
    "plt.show()"
   ]
  },
  {
   "cell_type": "code",
   "execution_count": null,
   "id": "ec60e376-50be-462c-8cdb-8fe6a5605aba",
   "metadata": {},
   "outputs": [],
   "source": [
    "air_quality.plot.box()\n",
    "plt.show()"
   ]
  },
  {
   "cell_type": "code",
   "execution_count": null,
   "id": "e3024694-e4e7-4f69-bb20-8faa3a995ac5",
   "metadata": {},
   "outputs": [],
   "source": [
    "air_quality.plot.area(figsize=(12, 4), subplots=True)\n",
    "plt.show()"
   ]
  },
  {
   "cell_type": "code",
   "execution_count": null,
   "id": "a1bf139a-1ffa-46a1-bf81-52b153de7c3a",
   "metadata": {},
   "outputs": [],
   "source": [
    "fig, axs = plt.subplots(figsize=(12, 4))\n",
    "air_quality.plot.area(ax=axs)\n",
    "axs.set_ylabel(\"NO$_2$ concentration\")\n",
    "fig.savefig(\"no2_concentrations.png\")\n",
    "plt.show()"
   ]
  },
  {
   "cell_type": "code",
   "execution_count": null,
   "id": "e0d3d0b8-485a-4e6c-bef9-ae2f97e73bc5",
   "metadata": {},
   "outputs": [],
   "source": []
  }
 ],
 "metadata": {
  "kernelspec": {
   "display_name": "Python 3 (ipykernel)",
   "language": "python",
   "name": "python3"
  },
  "language_info": {
   "codemirror_mode": {
    "name": "ipython",
    "version": 3
   },
   "file_extension": ".py",
   "mimetype": "text/x-python",
   "name": "python",
   "nbconvert_exporter": "python",
   "pygments_lexer": "ipython3",
   "version": "3.11.5"
  }
 },
 "nbformat": 4,
 "nbformat_minor": 5
}
